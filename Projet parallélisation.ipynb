{
 "cells": [
  {
   "cell_type": "markdown",
   "metadata": {},
   "source": [
    "## Le but de notre projet est d'implémenter le ridge de façon paralléliser "
   ]
  },
  {
   "cell_type": "markdown",
   "metadata": {},
   "source": [
    "Plan prévu :\n",
    "\n",
    "- Ecrire une fonction qui génère les données (comme en opti)\n",
    "- Implémenter une première version d'optimisation du ridge (non parallélisée)\n",
    "- Essayer de faire une fonction plus optimisée avec cython par exemple\n",
    "- Ecrire un peu de théorie sur le ridge para \n",
    "- utilisation de MPI allreduce ou OpenMP (les trucs dans le genre)\n",
    "- implémentation de l'algo \n",
    "- Comparaison des algos + plots"
   ]
  },
  {
   "cell_type": "code",
   "execution_count": 2,
   "metadata": {},
   "outputs": [],
   "source": [
    "#On importe les librairies\n",
    "\n",
    "import numpy as np\n",
    "import matplotlib.pyplot as plt"
   ]
  },
  {
   "cell_type": "markdown",
   "metadata": {},
   "source": [
    "## 1) Générer des données sparse pour une régresssion lineaire"
   ]
  },
  {
   "cell_type": "code",
   "execution_count": 3,
   "metadata": {},
   "outputs": [],
   "source": [
    "from numpy.random import multivariate_normal, randn\n",
    "from scipy.linalg.special_matrices import toeplitz\n",
    "\n",
    "\n",
    "from numpy.random import multivariate_normal, randn\n",
    "from scipy.linalg.special_matrices import toeplitz\n",
    "\n",
    "\n",
    "def simu_linreg(x, n_samples, std=1., corr=0.5):\n",
    "    \"\"\"Simulation for the least-squares problem.\n",
    "\n",
    "    Parameters\n",
    "    ----------\n",
    "    x : ndarray, shape (d,)\n",
    "        The coefficients of the model\n",
    "    n : int\n",
    "        Sample size\n",
    "    std : float, default=1.\n",
    "        Standard-deviation of the noise\n",
    "    corr : float, default=0.5\n",
    "        Correlation of the features matrix\n",
    "    \n",
    "    Returns\n",
    "    -------\n",
    "    A : ndarray, shape (n, d)\n",
    "        The design matrix.\n",
    "    b : ndarray, shape (n,)\n",
    "        The targets.\n",
    "    \"\"\"\n",
    "    d = x.shape[0]\n",
    "    cov = toeplitz(corr ** np.arange(0, d))\n",
    "    A = multivariate_normal(np.zeros(d), cov, size=n_samples)\n",
    "    noise = std * randn(n_samples)\n",
    "    b = A.dot(x) + noise\n",
    "    return A, b"
   ]
  },
  {
   "cell_type": "code",
   "execution_count": 4,
   "metadata": {},
   "outputs": [
    {
     "name": "stdout",
     "output_type": "stream",
     "text": [
      "La dimension de A est : (10000, 50) \n",
      " La dimension de b est : (10000,)\n"
     ]
    }
   ],
   "source": [
    "d = 50              #nb features\n",
    "n = 10000           #nb samples\n",
    "idx = np.arange(d)\n",
    "\n",
    "# Ground truth coefficients of the model\n",
    "x_model_truth = (-1)**idx * np.exp(-idx / 10.) # Valeur des vrais paramètres \n",
    "\n",
    "A, b = simu_linreg(x_model_truth, n, std=1., corr=0.5)\n",
    "print('La dimension de A est :', A.shape ,'\\n La dimension de b est :', b.shape)"
   ]
  },
  {
   "cell_type": "code",
   "execution_count": 5,
   "metadata": {},
   "outputs": [
    {
     "data": {
      "text/plain": [
       "Text(0.5, 1.0, 'Valeur des vrais coefficients des features')"
      ]
     },
     "execution_count": 5,
     "metadata": {},
     "output_type": "execute_result"
    },
    {
     "data": {
      "image/png": "[encoded data removed]",
      "text/plain": [
       "<Figure size 432x288 with 1 Axes>"
      ]
     },
     "metadata": {
      "needs_background": "light"
     },
     "output_type": "display_data"
    }
   ],
   "source": [
    "plt.stem(x_model_truth, use_line_collection=True)\n",
    "plt.xlabel('features')\n",
    "plt.ylabel('valeur')\n",
    "plt.title('Valeur des vrais coefficients des features')"
   ]
  },
  {
   "cell_type": "markdown",
   "metadata": {},
   "source": [
    "## Implémentation d'un algo d'optimisation pour résoudre ce problème "
   ]
  },
  {
   "cell_type": "markdown",
   "metadata": {},
   "source": [
    "We want to minimize\n",
    "$$\n",
    "\\frac 1n \\sum_{i=1}^n \\ell(a_i^\\top x, b_i) + \\frac \\lambda 2 \\|x\\|_2^2\n",
    "$$\n",
    "where\n",
    "- $\\ell(z, b) = \\frac 12 (b - z)^2$ (least-squares regression)"
   ]
  },
  {
   "cell_type": "code",
   "execution_count": 6,
   "metadata": {},
   "outputs": [],
   "source": [
    "from numpy.linalg import norm"
   ]
  },
  {
   "cell_type": "code",
   "execution_count": 7,
   "metadata": {},
   "outputs": [],
   "source": [
    "#Gradient en i\n",
    "def grad_i_linreg(i, x, A, b, lbda, n_samples):\n",
    "    \"\"\"Gradient with respect to a sample\"\"\"\n",
    "    a_i = A[i]\n",
    "    return (a_i.dot(x) - b[i]) * a_i + lbda * x"
   ]
  },
  {
   "cell_type": "markdown",
   "metadata": {},
   "source": [
    "### Ecriture de l'algorithme SGD"
   ]
  },
  {
   "cell_type": "code",
   "execution_count": 8,
   "metadata": {},
   "outputs": [],
   "source": [
    "lbda = 0.1"
   ]
  },
  {
   "cell_type": "code",
   "execution_count": 9,
   "metadata": {},
   "outputs": [],
   "source": [
    "n_epochs = 100 # here corresponds to the number of epochs\n",
    "\n",
    "# generate indices of random samples\n",
    "iis = np.random.randint(0, n, n * n_epochs)"
   ]
  },
  {
   "cell_type": "code",
   "execution_count": 10,
   "metadata": {},
   "outputs": [
    {
     "data": {
      "text/plain": [
       "1000000"
      ]
     },
     "execution_count": 10,
     "metadata": {},
     "output_type": "execute_result"
    }
   ],
   "source": [
    "len(iis)"
   ]
  },
  {
   "cell_type": "code",
   "execution_count": 11,
   "metadata": {},
   "outputs": [],
   "source": [
    "def sgd(x_init, iis, n_iter, step=0.1, store_every =n, args=(A, b, lbda, n)):\n",
    "    \"\"\"Stochastic gradient descent algorithm.\"\"\"\n",
    "    x = x_init.copy()\n",
    "    x_list = []\n",
    "    for idx in range(n_iter):\n",
    "        i = iis[idx]\n",
    "        \n",
    "        ### TODO\n",
    "        x -= step/np.sqrt(idx + 1) * grad_i_linreg(i, x, *args)\n",
    "        ### END TODO\n",
    "        \n",
    "        # Update metrics after each iteration.\n",
    "        if idx % store_every == 0:\n",
    "            x_list.append(x.copy())\n",
    "    return x, x_list"
   ]
  },
  {
   "cell_type": "code",
   "execution_count": 12,
   "metadata": {},
   "outputs": [],
   "source": [
    "#lipshitz constant \n",
    "\n",
    "L = lipschitz_linreg( A, b, lbda, n_samples=A.shape[0])"
   ]
  },
  {
   "cell_type": "markdown",
   "metadata": {},
   "source": [
    "Mesurons le temps temps d'execution de l'algorithme"
   ]
  },
  {
   "cell_type": "code",
   "execution_count": 13,
   "metadata": {},
   "outputs": [],
   "source": [
    "import time"
   ]
  },
  {
   "cell_type": "code",
   "execution_count": 14,
   "metadata": {},
   "outputs": [
    {
     "name": "stdout",
     "output_type": "stream",
     "text": [
      "12.125131130218506 s\n"
     ]
    }
   ],
   "source": [
    "debut = time.time()\n",
    "w_solu, w_list = sgd(x_init=np.ones(len(x_model_truth)), iis=iis, n_iter=n*n_epochs, step=0.01)\n",
    "fin = time.time()\n",
    "print(fin-debut,'s')"
   ]
  },
  {
   "cell_type": "code",
   "execution_count": 15,
   "metadata": {},
   "outputs": [
    {
     "data": {
      "text/plain": [
       "Text(0.5, 1.0, 'Erreur absolue par coefficient')"
      ]
     },
     "execution_count": 15,
     "metadata": {},
     "output_type": "execute_result"
    },
    {
     "data": {
      "image/png": "[encoded data removed]",
      "text/plain": [
       "<Figure size 1440x360 with 2 Axes>"
      ]
     },
     "metadata": {
      "needs_background": "light"
     },
     "output_type": "display_data"
    }
   ],
   "source": [
    "# On plot la \n",
    "list_erreur_temps = [sum(abs(vec - x_model_truth)) for vec in w_list]\n",
    "\n",
    "\n",
    "plt.figure(figsize=(20,5))\n",
    "plt.subplot(1,2,1)\n",
    "plt.semilogy(list_erreur_temps)\n",
    "plt.xlabel('nombre iteration algo')\n",
    "plt.ylabel('|w-w*|')\n",
    "plt.title('Distance à optimum en fonction des iterations')\n",
    "\n",
    "\n",
    "plt.subplot(1,2,2)\n",
    "plt.stem(abs(w_solu - x_model_truth), use_line_collection=True)\n",
    "plt.xlabel('Coefficient')\n",
    "plt.ylabel('Erreur absolue par coefficient')\n",
    "plt.title('Erreur absolue par coefficient')\n",
    "\n"
   ]
  },
  {
   "cell_type": "code",
   "execution_count": 16,
   "metadata": {},
   "outputs": [
    {
     "name": "stdout",
     "output_type": "stream",
     "text": [
      "erreur absolue entre deux points est de  0.04951581648855678\n"
     ]
    }
   ],
   "source": [
    "print('erreur absolue entre deux points est de ', sum(abs(w_solu - x_model_truth)) / len(w_solu)) "
   ]
  },
  {
   "cell_type": "markdown",
   "metadata": {},
   "source": [
    "### Plot quand le nombre d'individu augmente"
   ]
  },
  {
   "cell_type": "code",
   "execution_count": 17,
   "metadata": {},
   "outputs": [],
   "source": [
    "#On Ecrit une fonction qui simule des données pour différents nombres d'individus\n",
    "\n",
    "def simulateur_donnees(n,d):\n",
    "\n",
    "    idx = np.arange(d)\n",
    "    x_model_truth = (-1)**idx * np.exp(-idx / 10.) # Valeur des vrais paramètres \n",
    "    A, b = simu_linreg(x_model_truth, n, std=1., corr=0.5)\n",
    "    return A, b\n"
   ]
  },
  {
   "cell_type": "code",
   "execution_count": 37,
   "metadata": {},
   "outputs": [],
   "source": [
    "#Simulons plusieurs jeux de données où la tailel de nombre de sample varie\n",
    "\n",
    "list_A = list()\n",
    "list_b = list()\n",
    "\n",
    "n_sample = [1e1, 1e2, 1e3, 1e4, 1e5, 1e6]\n",
    "\n",
    "for sample in n_sample:\n",
    "    r1, r2 = simulateur_donnees(n=int(sample), d=50)\n",
    "    list_A.append(r1)\n",
    "    list_b.append(r2)"
   ]
  },
  {
   "cell_type": "code",
   "execution_count": 38,
   "metadata": {},
   "outputs": [
    {
     "name": "stdout",
     "output_type": "stream",
     "text": [
      "0 eme itération\n",
      "1 eme itération\n",
      "2 eme itération\n",
      "3 eme itération\n",
      "4 eme itération\n",
      "5 eme itération\n"
     ]
    }
   ],
   "source": [
    "#On peut aussi plot le temps d'executions pour différents n\n",
    "list_temps = list()\n",
    "list_w_solu = list()\n",
    "\n",
    "for ii in range(len(n_sample)):\n",
    "    \n",
    "    print(ii, 'eme itération')\n",
    "    n = n_sample[ii]\n",
    "    A, b = list_A[ii], list_b[ii]\n",
    "    iis = np.random.randint(0, int(n), int(n * n_epochs))\n",
    "    \n",
    "    debut = time.time()\n",
    "    w_sol, _ = sgd(x_init=np.ones(len(x_model_truth)), iis=iis, n_iter=int(n*n_epochs), step=0.05, \n",
    "               args=(A, b, lbda, n))\n",
    "    list_w_solu.append(w_sol)\n",
    "    fin = time.time()\n",
    "    list_temps.append(fin-debut)"
   ]
  },
  {
   "cell_type": "code",
   "execution_count": 41,
   "metadata": {},
   "outputs": [
    {
     "data": {
      "text/plain": [
       "Text(0.5, 1.0, 'erreur absolue moyenne en fonction du nombre individu')"
      ]
     },
     "execution_count": 41,
     "metadata": {},
     "output_type": "execute_result"
    },
    {
     "data": {
      "image/png": "[encoded data removed]",
      "text/plain": [
       "<Figure size 1440x360 with 2 Axes>"
      ]
     },
     "metadata": {
      "needs_background": "light"
     },
     "output_type": "display_data"
    }
   ],
   "source": [
    "#Plot\n",
    "n_sample_string = ['1e1', '1e2', '1e3', '1e4', '1e5', '1e6']\n",
    "list_precision = [sum(abs(vec_solu - x_model_truth)) / len(vec_solu) for vec_solu in list_w_solu]\n",
    "\n",
    "plt.figure(figsize=(20,5))\n",
    "\n",
    "plt.subplot(1,2,1)\n",
    "plt.plot(n_sample_string, list_temps, 'o-')\n",
    "plt.xlabel('nombre individu')\n",
    "plt.ylabel('temps execution en s')\n",
    "plt.title('Temps execution de algo pour different n')\n",
    "\n",
    "plt.subplot(1,2,2)\n",
    "plt.plot(n_sample_string, list_precision, 'o-')\n",
    "plt.xlabel('nombre individu')\n",
    "plt.ylabel('erreur absolue moyenne')\n",
    "plt.title('erreur absolue moyenne en fonction du nombre individu')\n"
   ]
  },
  {
   "cell_type": "code",
   "execution_count": null,
   "metadata": {},
   "outputs": [],
   "source": []
  },
  {
   "cell_type": "markdown",
   "metadata": {},
   "source": [
    "## Essayons de paralléliser notre stochastic gradient descent"
   ]
  },
  {
   "cell_type": "markdown",
   "metadata": {},
   "source": [
    "Par exemple le mec fait ça ici (https://github.com/angadgill/Parallel-SGD)"
   ]
  },
  {
   "cell_type": "code",
   "execution_count": null,
   "metadata": {},
   "outputs": [],
   "source": []
  },
  {
   "cell_type": "code",
   "execution_count": null,
   "metadata": {},
   "outputs": [],
   "source": []
  },
  {
   "cell_type": "code",
   "execution_count": null,
   "metadata": {},
   "outputs": [],
   "source": []
  },
  {
   "cell_type": "code",
   "execution_count": null,
   "metadata": {},
   "outputs": [],
   "source": []
  },
  {
   "cell_type": "code",
   "execution_count": null,
   "metadata": {},
   "outputs": [],
   "source": []
  },
  {
   "cell_type": "code",
   "execution_count": null,
   "metadata": {},
   "outputs": [],
   "source": []
  },
  {
   "cell_type": "code",
   "execution_count": null,
   "metadata": {},
   "outputs": [],
   "source": []
  },
  {
   "cell_type": "code",
   "execution_count": null,
   "metadata": {},
   "outputs": [],
   "source": []
  },
  {
   "cell_type": "code",
   "execution_count": null,
   "metadata": {},
   "outputs": [],
   "source": []
  },
  {
   "cell_type": "code",
   "execution_count": null,
   "metadata": {},
   "outputs": [],
   "source": []
  },
  {
   "cell_type": "code",
   "execution_count": null,
   "metadata": {},
   "outputs": [],
   "source": []
  }
 ],
 "metadata": {
  "kernelspec": {
   "display_name": "Python 3",
   "language": "python",
   "name": "python3"
  },
  "language_info": {
   "codemirror_mode": {
    "name": "ipython",
    "version": 3
   },
   "file_extension": ".py",
   "mimetype": "text/x-python",
   "name": "python",
   "nbconvert_exporter": "python",
   "pygments_lexer": "ipython3",
   "version": "3.7.3"
  }
 },
 "nbformat": 4,
 "nbformat_minor": 2
}
